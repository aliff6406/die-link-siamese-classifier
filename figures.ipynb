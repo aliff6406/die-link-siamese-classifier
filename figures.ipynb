{
 "cells": [
  {
   "cell_type": "code",
   "execution_count": 10,
   "metadata": {},
   "outputs": [],
   "source": [
    "import pandas as pd\n",
    "import matplotlib.pyplot as plt"
   ]
  },
  {
   "cell_type": "code",
   "execution_count": null,
   "metadata": {},
   "outputs": [],
   "source": [
    "def string_to_list(string):\n",
    "    \"\"\"\n",
    "    Converts a string representation of a list with missing commas into a list of floats.\n",
    "    \"\"\"\n",
    "    cleaned = string.strip('[]').split(' ')\n",
    "    return [float(item) for item in cleaned if item]"
   ]
  },
  {
   "cell_type": "code",
   "execution_count": null,
   "metadata": {},
   "outputs": [],
   "source": [
    "# Load the data from the CSV files\n",
    "file_paths = [\n",
    "    '../runs/artifacts/eval_results/cnn/alexnet.csv',\n",
    "    '../runs/artifacts/eval_results/cnn/vgg16.csv',\n",
    "    '../runs/artifacts/eval_results/cnn/resnet50.csv',\n",
    "    '../runs/artifacts/eval_results/cnn/densenet121.csv',\n",
    "    '../runs/artifacts/eval_results/cnn/efficientnet.csv',\n",
    "    '../runs/artifacts/eval_results/sam/bce/1c/sam.csv',\n",
    "]\n",
    "\n",
    "# Read the data into a dictionary\n",
    "models_data = {}\n",
    "for path in file_paths:\n",
    "    model_name = path.split('/')[-1].split('.')[0]  # Extract model name from file path\n",
    "    models_data[model_name] = pd.read_csv(path)\n",
    "\n",
    "# Plot each model's ROC curve again with corrected data\n",
    "plt.figure(figsize=[10,8])\n",
    "for model, data in models_data.items():\n",
    "    # Correct the format and convert the string lists to actual lists\n",
    "    tpr = string_to_list(data['TPR'].values[0])\n",
    "    fpr = string_to_list(data['FPR'].values[0])\n",
    "    # Plot\n",
    "    plt.plot(fpr, tpr, label=f\"{model} (AUC = {data['auc'].values[0]:.3f})\")\n",
    "\n",
    "# Plot formatting\n",
    "plt.plot([0, 1], [0, 1], 'k--')  # Dashed diagonal\n",
    "plt.xlabel('False Positive Rate')\n",
    "plt.ylabel('True Positive Rate')\n",
    "plt.title('ROC Curve Comparison')\n",
    "plt.legend(loc='lower right')\n",
    "plt.grid(True)\n",
    "\n",
    "plt.savefig(\"ROC.jpg\")\n",
    "\n",
    "# Display the plot\n",
    "plt.show()"
   ]
  },
  {
   "cell_type": "code",
   "execution_count": null,
   "metadata": {},
   "outputs": [],
   "source": [
    "\n"
   ]
  }
 ],
 "metadata": {
  "kernelspec": {
   "display_name": ".venv",
   "language": "python",
   "name": "python3"
  },
  "language_info": {
   "codemirror_mode": {
    "name": "ipython",
    "version": 3
   },
   "file_extension": ".py",
   "mimetype": "text/x-python",
   "name": "python",
   "nbconvert_exporter": "python",
   "pygments_lexer": "ipython3",
   "version": "3.11.1"
  }
 },
 "nbformat": 4,
 "nbformat_minor": 2
}
